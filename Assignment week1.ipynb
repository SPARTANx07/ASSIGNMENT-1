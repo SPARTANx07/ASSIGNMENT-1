{
 "cells": [
  {
   "cell_type": "markdown",
   "id": "24be20f8-a94e-46b7-941b-e1df2c8cc902",
   "metadata": {},
   "source": [
    "Q1. Create one variable containing following type of data:\n",
    "(i) string\n",
    "(ii) list\n",
    "(iii) float\n",
    "(iv) tuple"
   ]
  },
  {
   "cell_type": "markdown",
   "id": "afe36636-92e0-49c9-b9cb-0cf0d5b74b7e",
   "metadata": {},
   "source": [
    "Answer."
   ]
  },
  {
   "cell_type": "code",
   "execution_count": 2,
   "id": "616b2a1c-047a-434b-8830-b0ea346994fd",
   "metadata": {},
   "outputs": [
    {
     "name": "stdout",
     "output_type": "stream",
     "text": [
      "hello to a programmung world\n"
     ]
    }
   ],
   "source": [
    "print(\"hello to a programmung world\")"
   ]
  },
  {
   "cell_type": "code",
   "execution_count": 3,
   "id": "c4a82b9c-a2f0-4755-b902-b2c219dd2679",
   "metadata": {},
   "outputs": [],
   "source": [
    "c = \"drv\""
   ]
  },
  {
   "cell_type": "code",
   "execution_count": 5,
   "id": "461b1118-098a-45a3-bd42-e38d036825a5",
   "metadata": {},
   "outputs": [],
   "source": [
    "c1 = 'coder'"
   ]
  },
  {
   "cell_type": "code",
   "execution_count": 6,
   "id": "dfa3ccf7-ee84-4734-a17c-044b40aa672e",
   "metadata": {},
   "outputs": [
    {
     "data": {
      "text/plain": [
       "str"
      ]
     },
     "execution_count": 6,
     "metadata": {},
     "output_type": "execute_result"
    }
   ],
   "source": [
    "type (c)"
   ]
  },
  {
   "cell_type": "code",
   "execution_count": 7,
   "id": "9592309f-2079-4b34-a7a8-2b3bb5e48d33",
   "metadata": {},
   "outputs": [],
   "source": [
    "b= [1,2,3,4]"
   ]
  },
  {
   "cell_type": "code",
   "execution_count": 9,
   "id": "fe129955-3f87-4e09-87d2-c1e5f0ef21a7",
   "metadata": {},
   "outputs": [
    {
     "data": {
      "text/plain": [
       "list"
      ]
     },
     "execution_count": 9,
     "metadata": {},
     "output_type": "execute_result"
    }
   ],
   "source": [
    "type(b)"
   ]
  },
  {
   "cell_type": "code",
   "execution_count": 10,
   "id": "2ba0a610-aa8e-4d4f-b835-7a83f6d6eff0",
   "metadata": {},
   "outputs": [],
   "source": [
    "c = 245.456"
   ]
  },
  {
   "cell_type": "code",
   "execution_count": 11,
   "id": "4bc24671-8146-4180-a4e8-9754c0176622",
   "metadata": {},
   "outputs": [
    {
     "data": {
      "text/plain": [
       "245.456"
      ]
     },
     "execution_count": 11,
     "metadata": {},
     "output_type": "execute_result"
    }
   ],
   "source": [
    "c"
   ]
  },
  {
   "cell_type": "code",
   "execution_count": 12,
   "id": "e20f4e72-0624-4c78-8555-8cae3e604c10",
   "metadata": {},
   "outputs": [
    {
     "data": {
      "text/plain": [
       "float"
      ]
     },
     "execution_count": 12,
     "metadata": {},
     "output_type": "execute_result"
    }
   ],
   "source": [
    "type(c)"
   ]
  },
  {
   "cell_type": "code",
   "execution_count": 13,
   "id": "56edf6b9-24e1-4219-a427-7149eaf5017d",
   "metadata": {},
   "outputs": [],
   "source": [
    "d= 10,40,50.60"
   ]
  },
  {
   "cell_type": "code",
   "execution_count": 14,
   "id": "185790c0-9aea-42e2-90e0-2cca4e19415c",
   "metadata": {},
   "outputs": [
    {
     "data": {
      "text/plain": [
       "(10, 40, 50.6)"
      ]
     },
     "execution_count": 14,
     "metadata": {},
     "output_type": "execute_result"
    }
   ],
   "source": [
    "d"
   ]
  },
  {
   "cell_type": "code",
   "execution_count": 15,
   "id": "59ee73e9-d04a-4d87-9686-378a53c2175e",
   "metadata": {},
   "outputs": [
    {
     "data": {
      "text/plain": [
       "tuple"
      ]
     },
     "execution_count": 15,
     "metadata": {},
     "output_type": "execute_result"
    }
   ],
   "source": [
    "type(d)"
   ]
  },
  {
   "cell_type": "markdown",
   "id": "9e4136e6-f949-481d-b4ff-82d8a83a0033",
   "metadata": {},
   "source": [
    "Q2. Given are some following variables containing data:\n",
    "(i) var1 = ‘ ‘\n",
    "(ii) var2 = ‘[ DS , ML , Python]’\n",
    "(iii) var3 = [ ‘DS’ , ’ML’ , ‘Python’ ]\n",
    "(iv) var4 = 1.\n",
    "What will be the data type of the above given variable."
   ]
  },
  {
   "cell_type": "markdown",
   "id": "04469b04-8281-4c15-a996-a4cb4073da99",
   "metadata": {},
   "source": [
    "Answer2."
   ]
  },
  {
   "cell_type": "markdown",
   "id": "d8e0dd8b-2106-479c-9d97-0b66051733e0",
   "metadata": {},
   "source": [
    " (i)This appears to be a string containing a single space character. So, the data type of var1 is a string.\n",
    " \n",
    " (ii)This appears to be a string containing square brackets and some text inside.So, the data type of var2 is a string.\n",
    " \n",
    " (iii)var3 is of type list\n",
    " \n",
    " (iv)This appears to be a floating-point number. The presence of a decimal point makes it a floating-point value. So, the data type of var4 is a float.\n",
    " "
   ]
  },
  {
   "cell_type": "markdown",
   "id": "d95ce6fd-744e-46f1-9ce7-863ca145f399",
   "metadata": {},
   "source": [
    "Q3. Explain the use of the following operators using an example:\n",
    "(i) /\n",
    "(ii) %\n",
    "(iii) //\n",
    "(iv) **"
   ]
  },
  {
   "cell_type": "markdown",
   "id": "d1c87a0a-50fe-4416-9c9f-c3c24c12e0a7",
   "metadata": {},
   "source": [
    "(i) The division operator (/) is used to perform division between two numbers."
   ]
  },
  {
   "cell_type": "code",
   "execution_count": 20,
   "id": "5d4fd4de-62e2-46b5-98ee-f88dcaef79e6",
   "metadata": {},
   "outputs": [],
   "source": [
    "marks =20/10"
   ]
  },
  {
   "cell_type": "code",
   "execution_count": 21,
   "id": "723c88bd-6b85-49d3-b21d-8c8f8683616e",
   "metadata": {},
   "outputs": [
    {
     "name": "stdout",
     "output_type": "stream",
     "text": [
      "2.0\n"
     ]
    }
   ],
   "source": [
    "print(marks)"
   ]
  },
  {
   "cell_type": "markdown",
   "id": "2b7cd1cd-b48e-4f3c-81e8-a49724d3c067",
   "metadata": {},
   "source": [
    "(ii)The modulus operator (%) is used to find the remainder when one number is divided by another."
   ]
  },
  {
   "cell_type": "code",
   "execution_count": 23,
   "id": "de3dd94a-9e41-4f3c-b6af-979e9be7035a",
   "metadata": {},
   "outputs": [],
   "source": [
    "perc =30/3 "
   ]
  },
  {
   "cell_type": "code",
   "execution_count": 24,
   "id": "a12294e4-a6a8-440d-b859-f9b3c7fe0b6b",
   "metadata": {},
   "outputs": [
    {
     "name": "stdout",
     "output_type": "stream",
     "text": [
      "10.0\n"
     ]
    }
   ],
   "source": [
    "print(perc)"
   ]
  },
  {
   "cell_type": "markdown",
   "id": "af7bc53c-5f76-4a4b-9291-3c1d7faeffa8",
   "metadata": {},
   "source": [
    "(iii) // (Floor Division Operator):\n",
    "\n",
    "The floor division operator (//) is used to perform division and return the quotient as an integer (rounded down to the nearest whole number)."
   ]
  },
  {
   "cell_type": "code",
   "execution_count": 25,
   "id": "d7ab7e5b-eb9d-476d-9b2c-d61e7d8ee44b",
   "metadata": {},
   "outputs": [],
   "source": [
    "quotient= 20//2"
   ]
  },
  {
   "cell_type": "code",
   "execution_count": 27,
   "id": "8e16f12b-fe01-41d6-8b8f-4b0bb4e636f1",
   "metadata": {},
   "outputs": [
    {
     "name": "stdout",
     "output_type": "stream",
     "text": [
      "10\n"
     ]
    }
   ],
   "source": [
    "print(quotient)"
   ]
  },
  {
   "cell_type": "markdown",
   "id": "66befff0-f1a7-452b-827d-8d0634c7e0dd",
   "metadata": {},
   "source": [
    "(iv) ** (Exponentiation Operator):\n",
    "\n",
    "The exponentiation operator (**) is used to raise the left operand to the power of the right operand."
   ]
  },
  {
   "cell_type": "code",
   "execution_count": 29,
   "id": "401bccb1-47df-40b0-b386-099ccf3de371",
   "metadata": {},
   "outputs": [],
   "source": [
    "report =10**2"
   ]
  },
  {
   "cell_type": "code",
   "execution_count": 30,
   "id": "eda1e332-0501-4828-989f-5de0c57462a7",
   "metadata": {},
   "outputs": [
    {
     "name": "stdout",
     "output_type": "stream",
     "text": [
      "100\n"
     ]
    }
   ],
   "source": [
    "print(report)"
   ]
  },
  {
   "cell_type": "markdown",
   "id": "0361921d-0075-4693-9272-61537a2a25a5",
   "metadata": {},
   "source": [
    "Q4. Create a list of length 10 of your choice containing multiple types of data. Using for loop print the\n",
    "element and its data type."
   ]
  },
  {
   "cell_type": "markdown",
   "id": "88224195-a33a-40aa-b7af-1f3031ee10a5",
   "metadata": {},
   "source": [
    "Answer."
   ]
  },
  {
   "cell_type": "code",
   "execution_count": 32,
   "id": "4a56c7a8-d9e5-4b76-9f86-e78c3da3ed8b",
   "metadata": {},
   "outputs": [
    {
     "name": "stdout",
     "output_type": "stream",
     "text": [
      "Element: 10, Data Type: <class 'int'>\n",
      "Element: Hello, PW!, Data Type: <class 'str'>\n",
      "Element: 2.0, Data Type: <class 'float'>\n",
      "Element: True, Data Type: <class 'bool'>\n",
      "Element: [1, 2, 3], Data Type: <class 'list'>\n",
      "Element: {'name': 'spartan', 'age': 21}, Data Type: <class 'dict'>\n",
      "Element: None, Data Type: <class 'NoneType'>\n",
      "Element: (1, 2), Data Type: <class 'tuple'>\n",
      "Element: 1.0, Data Type: <class 'float'>\n",
      "Element: False, Data Type: <class 'bool'>\n"
     ]
    }
   ],
   "source": [
    "drv_list = [10, \"Hello, PW!\", 2.0, True, [1, 2, 3], {\"name\": \"spartan\", \"age\": 21}, None, (1, 2), 1.0, False]\n",
    "\n",
    "for element in drv_list:\n",
    "    print(f\"Element: {element}, Data Type: {type(element)}\")\n"
   ]
  },
  {
   "cell_type": "markdown",
   "id": "cdc5f4c2-b68c-41ae-905b-24ecef3ad698",
   "metadata": {},
   "source": [
    "Q6. Create a list containing 25 int type data. Using for loop and if-else condition print if the element is\n",
    "divisible by 3 or not."
   ]
  },
  {
   "cell_type": "markdown",
   "id": "15ec69c0-dc2d-4efd-95ef-ac90ab7e5473",
   "metadata": {},
   "source": [
    "Answer."
   ]
  },
  {
   "cell_type": "code",
   "execution_count": 2,
   "id": "f046ff13-12f6-4f0a-a7d1-93c076b1b5d5",
   "metadata": {},
   "outputs": [
    {
     "name": "stdout",
     "output_type": "stream",
     "text": [
      "10 is not divisible by 3\n",
      "6 is divisible by 3\n",
      "33 is divisible by 3\n",
      "14 is not divisible by 3\n",
      "9 is divisible by 3\n",
      "7 is not divisible by 3\n",
      "18 is divisible by 3\n",
      "21 is divisible by 3\n",
      "30 is divisible by 3\n",
      "5 is not divisible by 3\n",
      "8 is not divisible by 3\n",
      "27 is divisible by 3\n",
      "42 is divisible by 3\n",
      "15 is divisible by 3\n",
      "11 is not divisible by 3\n",
      "22 is not divisible by 3\n",
      "36 is divisible by 3\n",
      "20 is not divisible by 3\n",
      "12 is divisible by 3\n",
      "24 is divisible by 3\n",
      "13 is not divisible by 3\n",
      "17 is not divisible by 3\n",
      "19 is not divisible by 3\n",
      "4 is not divisible by 3\n",
      "16 is not divisible by 3\n"
     ]
    }
   ],
   "source": [
    "\n",
    "my_list = [10, 6, 33, 14, 9, 7, 18, 21, 30, 5, 8, 27, 42, 15, 11, 22, 36, 20, 12, 24, 13, 17, 19, 4, 16]\n",
    "for num in my_list:\n",
    "    if num % 3 == 0:\n",
    "        print(f\"{num} is divisible by 3\")\n",
    "    else:\n",
    "        print(f\"{num} is not divisible by 3\")\n"
   ]
  },
  {
   "cell_type": "markdown",
   "id": "be3fcd97-b422-4244-8e08-27ceda16e324",
   "metadata": {},
   "source": [
    "Q7. What do you understand about mutable and immutable data types? Give examples for both showing\n",
    "this property."
   ]
  },
  {
   "cell_type": "markdown",
   "id": "2976d5fc-a43b-4925-a54a-292d17d3b20d",
   "metadata": {},
   "source": [
    "Answer"
   ]
  },
  {
   "cell_type": "markdown",
   "id": "0f682bbb-5b15-4a29-b896-d8665ca4639c",
   "metadata": {},
   "source": [
    "Mutable Data Types:\n",
    "Mutable data types are data types whose values can be changed after they are created. This means that you can modify the contents of the object without creating a new one."
   ]
  },
  {
   "cell_type": "markdown",
   "id": "81ab8baa-164e-4e6e-a2a8-b26c73537ff0",
   "metadata": {},
   "source": [
    "example"
   ]
  },
  {
   "cell_type": "markdown",
   "id": "d595055b-7bce-49fc-af2d-c4b765a257ca",
   "metadata": {},
   "source": [
    "Lists: Lists in many programming languages are mutable. You can add, remove, or modify elements in a list after it is created."
   ]
  },
  {
   "cell_type": "code",
   "execution_count": 5,
   "id": "67720086-3e03-4001-836b-702d45dbd924",
   "metadata": {},
   "outputs": [],
   "source": [
    "b= [1,2,3,4]"
   ]
  },
  {
   "cell_type": "code",
   "execution_count": 6,
   "id": "9a9684f3-8666-44b4-8a07-4f4414d251dd",
   "metadata": {},
   "outputs": [
    {
     "data": {
      "text/plain": [
       "list"
      ]
     },
     "execution_count": 6,
     "metadata": {},
     "output_type": "execute_result"
    }
   ],
   "source": [
    "type(b)"
   ]
  },
  {
   "cell_type": "markdown",
   "id": "a2e5be5b-4db6-44ce-8ce0-4f5bc36cc5d1",
   "metadata": {},
   "source": [
    "Immutable data types are data types whose values cannot be changed after they are created. Any operation that appears to modify an immutable object actually creates a new object with the modified value, leaving the original object unchanged."
   ]
  },
  {
   "cell_type": "markdown",
   "id": "e8122211-9099-43bf-bcbc-1a76c7bb9134",
   "metadata": {},
   "source": [
    "example."
   ]
  },
  {
   "cell_type": "code",
   "execution_count": 9,
   "id": "4fed208b-b50f-485a-a26e-2532c4f0f766",
   "metadata": {},
   "outputs": [],
   "source": [
    "c = \"drv\""
   ]
  },
  {
   "cell_type": "code",
   "execution_count": 10,
   "id": "fd5bd809-d0af-4412-9b96-8a7191007cec",
   "metadata": {},
   "outputs": [],
   "source": [
    "c1= 'coder'"
   ]
  },
  {
   "cell_type": "code",
   "execution_count": 11,
   "id": "046926c9-c923-4750-81b9-b708e235a0fa",
   "metadata": {},
   "outputs": [
    {
     "data": {
      "text/plain": [
       "str"
      ]
     },
     "execution_count": 11,
     "metadata": {},
     "output_type": "execute_result"
    }
   ],
   "source": [
    "type (c)"
   ]
  }
 ],
 "metadata": {
  "kernelspec": {
   "display_name": "Python 3 (ipykernel)",
   "language": "python",
   "name": "python3"
  },
  "language_info": {
   "codemirror_mode": {
    "name": "ipython",
    "version": 3
   },
   "file_extension": ".py",
   "mimetype": "text/x-python",
   "name": "python",
   "nbconvert_exporter": "python",
   "pygments_lexer": "ipython3",
   "version": "3.10.8"
  }
 },
 "nbformat": 4,
 "nbformat_minor": 5
}
